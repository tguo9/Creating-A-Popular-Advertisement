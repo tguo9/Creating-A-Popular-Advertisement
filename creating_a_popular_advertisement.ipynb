{
 "cells": [
  {
   "cell_type": "code",
   "execution_count": 4,
   "metadata": {
    "deletable": true,
    "editable": true,
    "nbgrader": {
     "cell_type": "code",
     "checksum": "3f0fd36ffd90165118e4553ac88aeb0e",
     "grade": false,
     "grade_id": "cell-f6bdf65d553485a6",
     "locked": false,
     "schema_version": 3,
     "solution": false,
     "task": false
    }
   },
   "outputs": [],
   "source": [
    "library(testthat)\n",
    "library(digest)\n",
    "library(tidyverse)\n",
    "library(repr)\n",
    "library(gridExtra)"
   ]
  },
  {
   "cell_type": "markdown",
   "metadata": {
    "deletable": true,
    "editable": true,
    "nbgrader": {
     "cell_type": "markdown",
     "checksum": "68f9644fb5ac34695b1397e2c080c6be",
     "grade": false,
     "grade_id": "cell-c0da27e2c21eba16",
     "locked": false,
     "schema_version": 3,
     "solution": false,
     "task": false
    }
   },
   "source": [
    "Our MDS marketing team designed four Facebook ads and decided to run an A/B test to answer the following questions:\n",
    "\n",
    "**Questions:** \n",
    "\n",
    "- Which of the four ads will lead to a greater click through rate (*i.e.*, move the visitor from Facebook to our MDS marketing website)?\n",
    "\n",
    "- What ad features should be used in future ads?\n",
    "\n",
    "**Methods:**\n",
    "\n",
    "The four ads shown below (labelled A through D) were randomly served to Facebook visitors for four months. Click through rate was measured.\n",
    "\n",
    "![](img/MDS-facebook-ABtest.png)\n",
    "\n",
    "**Data:**"
   ]
  },
  {
   "cell_type": "code",
   "execution_count": 6,
   "metadata": {
    "deletable": true,
    "editable": true,
    "nbgrader": {
     "cell_type": "code",
     "checksum": "ce3c9f814bc3d1d8854973ea6043a564",
     "grade": false,
     "grade_id": "cell-1f493a439d3ce6b1",
     "locked": false,
     "schema_version": 3,
     "solution": false,
     "task": false
    }
   },
   "outputs": [
    {
     "data": {
      "text/html": [
       "<table>\n",
       "<caption>A tibble: 4 × 4</caption>\n",
       "<thead>\n",
       "\t<tr><th scope=col>ad_variant</th><th scope=col>impressions</th><th scope=col>clicks</th><th scope=col>click_through_rate</th></tr>\n",
       "\t<tr><th scope=col>&lt;chr&gt;</th><th scope=col>&lt;dbl&gt;</th><th scope=col>&lt;dbl&gt;</th><th scope=col>&lt;dbl&gt;</th></tr>\n",
       "</thead>\n",
       "<tbody>\n",
       "\t<tr><td>A</td><td>11921</td><td>152</td><td>0.0128</td></tr>\n",
       "\t<tr><td>B</td><td> 6747</td><td> 88</td><td>0.0130</td></tr>\n",
       "\t<tr><td>C</td><td> 2778</td><td> 22</td><td>0.0079</td></tr>\n",
       "\t<tr><td>D</td><td>29701</td><td>450</td><td>0.0152</td></tr>\n",
       "</tbody>\n",
       "</table>\n"
      ],
      "text/latex": [
       "A tibble: 4 × 4\n",
       "\\begin{tabular}{r|llll}\n",
       " ad\\_variant & impressions & clicks & click\\_through\\_rate\\\\\n",
       " <chr> & <dbl> & <dbl> & <dbl>\\\\\n",
       "\\hline\n",
       "\t A & 11921 & 152 & 0.0128\\\\\n",
       "\t B &  6747 &  88 & 0.0130\\\\\n",
       "\t C &  2778 &  22 & 0.0079\\\\\n",
       "\t D & 29701 & 450 & 0.0152\\\\\n",
       "\\end{tabular}\n"
      ],
      "text/markdown": [
       "\n",
       "A tibble: 4 × 4\n",
       "\n",
       "| ad_variant &lt;chr&gt; | impressions &lt;dbl&gt; | clicks &lt;dbl&gt; | click_through_rate &lt;dbl&gt; |\n",
       "|---|---|---|---|\n",
       "| A | 11921 | 152 | 0.0128 |\n",
       "| B |  6747 |  88 | 0.0130 |\n",
       "| C |  2778 |  22 | 0.0079 |\n",
       "| D | 29701 | 450 | 0.0152 |\n",
       "\n"
      ],
      "text/plain": [
       "  ad_variant impressions clicks click_through_rate\n",
       "1 A          11921       152    0.0128            \n",
       "2 B           6747        88    0.0130            \n",
       "3 C           2778        22    0.0079            \n",
       "4 D          29701       450    0.0152            "
      ]
     },
     "metadata": {},
     "output_type": "display_data"
    }
   ],
   "source": [
    "tibble(ad_variant = c(\"A\", \"B\", \"C\", \"D\"),\n",
    "      impressions = c(11921, 6747, 2778, 29701),\n",
    "      clicks = c(152, 88, 22, 450),\n",
    "      click_through_rate = c(0.0128, 0.013, 0.0079, 0.0152))"
   ]
  },
  {
   "cell_type": "markdown",
   "metadata": {},
   "source": [
    "| Click through rate | Ad variant | Video           | Call to action button | Text | \n",
    "|--------------------|------------|-----------------|-----------------------|------|\n",
    "| 0.0128             | A          | Video of Male   | APPLY NOW             | \"Be career ready in just 10 month...\"|\n",
    "| 0.0130             | B          | Video of Male   | APPLY NOW             | \"Gain the skills for an in-demand career...\" |\n",
    "| 0.0079             | C          | Video of Female | APPLY NOW             | \"Find out how the UBC Master of Data Science...\" |\n",
    "| 0.0152             | D          | Video of Female | LEARN MORE            | \"Seize the opportunity to obtain a career...\" |"
   ]
  },
  {
   "cell_type": "markdown",
   "metadata": {
    "deletable": true,
    "nbgrader": {
     "cell_type": "markdown",
     "checksum": "c456149bac1b5b054b10c916eb9a10b8",
     "grade": true,
     "grade_id": "cell-1927074bc1f819df",
     "locked": false,
     "points": 0,
     "schema_version": 3,
     "solution": true,
     "task": false
    }
   },
   "source": [
    "> - We will fit a logistic regression on the data, the response variable is binary (click or not click). The Explanatory variable is the Ad variant(A, B, C, D)\n",
    "> - Then, we check the coff of the logistic regression output. If the p-value is significant, then we can reject the null hypothesis.\n",
    "> - When we have significant p-value, we will have follow up the pairwise proportion test for different combination of Ad variant. We can use Bonferroni do the correction to find the effect of different Ad variant.\n",
    "\n",
    "> - The Ad variant D got the highest click through rate in those 4 Ad variants.\n",
    "> - So in the future Ad, we will use the structure like Ad D. So it will be a Video of Female, using LEARN MORE button, the ad text is \"Seize the opportunity to obtain a career...\""
   ]
  },
  {
   "cell_type": "code",
   "execution_count": 6,
   "metadata": {},
   "outputs": [
    {
     "data": {
      "text/plain": [
       "\n",
       "Call:  glm(formula = y ~ x, family = \"binomial\", data = df)\n",
       "\n",
       "Coefficients:\n",
       "(Intercept)           xB           xC           xD  \n",
       "   -4.34934      0.02296     -0.48115      0.17492  \n",
       "\n",
       "Degrees of Freedom: 51146 Total (i.e. Null);  51143 Residual\n",
       "Null Deviance:\t    7501 \n",
       "Residual Deviance: 7487 \tAIC: 7495"
      ]
     },
     "metadata": {},
     "output_type": "display_data"
    }
   ],
   "source": [
    "df <- tibble(ad_variant = c(\"A\", \"B\", \"C\", \"D\"),\n",
    "      impressions = c(11921, 6747, 2778, 29701),\n",
    "      clicks = c(152, 88, 22, 450),\n",
    "      click_through_rate = c(0.0128, 0.013, 0.0079, 0.0152))\n",
    "\n",
    "temp1 <- c()\n",
    "temp2 <- c()\n",
    "\n",
    "for (i in 1:4){\n",
    "    temp2 <- c(temp2, rep(1, df$clicks[i]), rep(0, df$impressions[i] - df$clicks[i]))\n",
    "    temp1 <- c(temp1, rep(df$ad_variant[i], df$clicks[i]), rep(df$ad_variant[i], df$impressions[i] - df$clicks[i]))\n",
    "}\n",
    "\n",
    "df1 <- tibble(x = temp1, y = temp2)\n",
    "\n",
    "glm <- glm(y ~ x, data = df, family = 'binomial')\n",
    "\n",
    "glm"
   ]
  },
  {
   "cell_type": "code",
   "execution_count": 7,
   "metadata": {},
   "outputs": [
    {
     "data": {
      "text/plain": [
       "\n",
       "\tPairwise comparisons using Pairwise comparison of proportions \n",
       "\n",
       "data:  df$clicks out of df$impressions \n",
       "\n",
       "  1     2     3    \n",
       "2 0.918 -     -    \n",
       "3 0.215 0.215 -    \n",
       "4 0.215 0.430 0.018\n",
       "\n",
       "P value adjustment method: holm "
      ]
     },
     "metadata": {},
     "output_type": "display_data"
    }
   ],
   "source": [
    "pairwise.prop.test(x = df$clicks, n = df$impressions)"
   ]
  },
  {
   "cell_type": "markdown",
   "metadata": {},
   "source": [
    "> - I think Ad D is the best among those 4 ads, which confirm what I did in 2.3\n",
    "> - The p value is different than the logsitic approach. The reason is it used the holm to do the P value adjustment"
   ]
  }
 ],
 "metadata": {
  "kernelspec": {
   "display_name": "R",
   "language": "R",
   "name": "ir"
  },
  "language_info": {
   "codemirror_mode": "r",
   "file_extension": ".r",
   "mimetype": "text/x-r-source",
   "name": "R",
   "pygments_lexer": "r",
   "version": "3.6.3"
  }
 },
 "nbformat": 4,
 "nbformat_minor": 4
}
